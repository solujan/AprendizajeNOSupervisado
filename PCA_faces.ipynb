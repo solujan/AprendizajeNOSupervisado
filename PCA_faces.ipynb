{
 "cells": [
  {
   "cell_type": "code",
   "execution_count": 1,
   "metadata": {},
   "outputs": [
    {
     "name": "stdout",
     "output_type": "stream",
     "text": [
      "/home/mlares/all/TeachJob/DiploDatos/python_demos/diplodatos_unsupervised\r\n"
     ]
    }
   ],
   "source": [
    "%matplotlib inline\n",
    "import numpy as np\n",
    "import os\n",
    "import matplotlib.pyplot as plt\n",
    "import math\n",
    "\n",
    "from pylab import imread,subplot,imshow,title,gray,figure,show\n",
    "\n",
    "!pwd\n",
    "data_dir = 'data/CroppedYale'\n",
    "os.chdir(data_dir)"
   ]
  },
  {
   "cell_type": "code",
   "execution_count": null,
   "metadata": {},
   "outputs": [],
   "source": [
    "# # converting from svg to png (first time only)\n",
    "# from glob import glob\n",
    "\n",
    "# %cd $data_dir\n",
    "\n",
    "# files=glob('yaleB*/*.pgm')\n",
    "# print 'number of files is',len(files)\n",
    "# count=0\n",
    "# for f in files:\n",
    "#     new_f=f[:-3]+'png'\n",
    "#     !convert $f $new_f\n",
    "#     count += 1\n",
    "#     if count % 100==0:\n",
    "#         print count,f,new_f"
   ]
  },
  {
   "cell_type": "code",
   "execution_count": null,
   "metadata": {},
   "outputs": [],
   "source": [
    "def image_grid(D,H,W,cols=10,scale=1):\n",
    "    \"\"\" display a grid of images\n",
    "        H,W: Height and width of the images\n",
    "        cols: number of columns = number of images in each row\n",
    "        scale: 1 to fill screen\n",
    "    \"\"\"\n",
    "    n = np.shape(D)[0]\n",
    "    rows = int(math.ceil((n+0.0)/cols))\n",
    "    fig = plt.figure(1,figsize=[scale*20.0/H*W,scale*20.0/cols*rows],dpi=300)\n",
    "    for i in range(n):\n",
    "        plt.subplot(rows,cols,i+1)\n",
    "        fig=plt.imshow(np.reshape(D[i,:],[H,W]), cmap = plt.get_cmap(\"gray\"))\n",
    "        plt.axis('off')"
   ]
  },
  {
   "cell_type": "code",
   "execution_count": null,
   "metadata": {},
   "outputs": [],
   "source": [
    "def create_filenames(data_dir, view_list):\n",
    "    # loads the pictures into a list\n",
    "    # data_dir: the CroppedYale folder\n",
    "    # view_list: the views you wish to grab\n",
    "    dir_list = os.listdir(data_dir)\n",
    "    file_list = []\n",
    "    for dir in dir_list:\n",
    "        for view in view_list:\n",
    "            filename = \"%s/%s_%s.png\" % (dir, dir, view)\n",
    "            file_list.append(filename)\n",
    "    return(file_list)\n",
    "\n",
    "\n",
    "view_list = ['P00A+000E+00', 'P00A+005E+10' , 'P00A+005E-10' , 'P00A+010E+00']\n",
    "\n",
    "file_list = create_filenames(data_dir, view_list)\n",
    "len(file_list)"
   ]
  },
  {
   "cell_type": "code",
   "execution_count": null,
   "metadata": {},
   "outputs": [],
   "source": [
    "# open image\n",
    "im = imread(file_list[0])\n",
    "\n",
    "#im = Image.open(file_list[0]).convert(\"L\")\n",
    "# get original dimensions\n",
    "H,W = np.shape(im)\n",
    "print 'shape=',(H,W)\n",
    "\n",
    "im_number = len(file_list)\n",
    "# fill array with rows as image\n",
    "# and columns as pixels\n",
    "arr = np.zeros([im_number,H*W])\n",
    "\n",
    "for i in range(im_number):\n",
    "    im = imread(file_list[i])\n",
    "    arr[i,:] = np.reshape(np.asarray(im),[1,H*W])\n",
    "\n",
    "image_grid(arr,H,W, cols=12)"
   ]
  },
  {
   "cell_type": "code",
   "execution_count": null,
   "metadata": {},
   "outputs": [],
   "source": [
    "mean_image = np.mean(arr, axis=0)\n",
    "plt.figure(figsize = (8,8))\n",
    "plt.imshow(np.reshape(mean_image,[H,W]), cmap = plt.get_cmap(\"gray\"))"
   ]
  },
  {
   "cell_type": "code",
   "execution_count": null,
   "metadata": {},
   "outputs": [],
   "source": [
    "# centering the data (subtract mean face)\n",
    "arr_norm = np.zeros([im_number, H*W])\n",
    "arr_norm = arr - mean_image"
   ]
  },
  {
   "cell_type": "code",
   "execution_count": null,
   "metadata": {},
   "outputs": [],
   "source": [
    "# chose some faces:\n",
    "idxs = [1,4,16,32,81,95]\n",
    "# plot some faces\n",
    "image_grid(arr[idxs,:],H,W, scale=1.5)"
   ]
  },
  {
   "cell_type": "code",
   "execution_count": null,
   "metadata": {},
   "outputs": [],
   "source": [
    "# plot some normalized faces\n",
    "image_grid(arr_norm[idxs,:],H,W, scale=1.5)"
   ]
  },
  {
   "cell_type": "markdown",
   "metadata": {},
   "source": [
    "# PCA implementation on python"
   ]
  },
  {
   "cell_type": "code",
   "execution_count": null,
   "metadata": {},
   "outputs": [],
   "source": [
    "from sklearn.decomposition.pca import PCA"
   ]
  },
  {
   "cell_type": "code",
   "execution_count": null,
   "metadata": {},
   "outputs": [],
   "source": [
    "pca = PCA()\n",
    "pca.fit(arr_norm)"
   ]
  },
  {
   "cell_type": "markdown",
   "metadata": {},
   "source": [
    "### Eigenfaces:"
   ]
  },
  {
   "cell_type": "code",
   "execution_count": null,
   "metadata": {},
   "outputs": [],
   "source": [
    "# eigenfaces\n",
    "eigenfaces = pca.components_\n",
    "image_grid(eigenfaces[:10,:], H, W, cols=5, scale=0.8)"
   ]
  },
  {
   "cell_type": "code",
   "execution_count": null,
   "metadata": {},
   "outputs": [],
   "source": [
    "img_idx = file_list.index('yaleB01/yaleB01_P00A+010E+00.png')\n",
    "img_idx = 16\n",
    "im = imread(file_list[img_idx])\n",
    "plt.gray()\n",
    "plt.imshow(im)"
   ]
  },
  {
   "cell_type": "code",
   "execution_count": null,
   "metadata": {},
   "outputs": [],
   "source": [
    "loadings = pca.components_\n",
    "n_components = loadings.shape[0]\n",
    "scores = np.dot(arr_norm[:,:], loadings[:,:].T)\n",
    "\n",
    "img_proj = []\n",
    "for n in range(n_components):\n",
    "    proj = np.dot(scores[img_idx, n], loadings[n,:])\n",
    "    img_proj.append(proj)\n",
    "len(img_proj)"
   ]
  },
  {
   "cell_type": "code",
   "execution_count": null,
   "metadata": {},
   "outputs": [],
   "source": [
    "faces = mean_image\n",
    "face_list = []\n",
    "face_list.append(mean_image)\n",
    "for i in range(len(img_proj)):\n",
    "    faces = np.add(faces, img_proj[i])\n",
    "    face_list.append(faces)\n",
    "\n",
    "face_arr = np.asarray(face_list)\n",
    "face_arr.shape"
   ]
  },
  {
   "cell_type": "code",
   "execution_count": null,
   "metadata": {},
   "outputs": [],
   "source": [
    "i = [0, 1, 2, 3, 4, 5, 10, 20, 30, 40, 50, 100]\n",
    "#image_grid(face_arr[:25], H, W, cols=4)\n",
    "image_grid(face_arr[i], H, W, cols=4)"
   ]
  },
  {
   "cell_type": "code",
   "execution_count": null,
   "metadata": {},
   "outputs": [],
   "source": []
  }
 ],
 "metadata": {
  "kernelspec": {
   "display_name": "Python 2",
   "language": "python",
   "name": "python2"
  },
  "language_info": {
   "codemirror_mode": {
    "name": "ipython",
    "version": 2
   },
   "file_extension": ".py",
   "mimetype": "text/x-python",
   "name": "python",
   "nbconvert_exporter": "python",
   "pygments_lexer": "ipython2",
   "version": "2.7.6"
  }
 },
 "nbformat": 4,
 "nbformat_minor": 1
}
