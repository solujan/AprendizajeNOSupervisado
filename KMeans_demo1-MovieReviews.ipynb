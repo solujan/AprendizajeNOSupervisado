{
 "cells": [
  {
   "cell_type": "markdown",
   "metadata": {},
   "source": [
    "DiploDatos 2018 / Aprendizaje no supervizado / Clustering Demo*\n",
    "\n",
    "# Aplicación de técnicas de *clustering* a documentos de texto"
   ]
  },
  {
   "cell_type": "markdown",
   "metadata": {},
   "source": [
    "**Objetivos:**\n",
    "\n",
    "En este ejemplo mostraremos cómo utilizar técnicas de clustering para aprender la estructura subyacente de un conjunto de documentos de texto."
   ]
  },
  {
   "cell_type": "code",
   "execution_count": 95,
   "metadata": {},
   "outputs": [],
   "source": [
    "import numpy as np\n",
    "import pandas as pd\n",
    "import nltk\n",
    "import re\n",
    "import os\n",
    "import codecs\n",
    "from sklearn import feature_extraction\n",
    "import mpld3\n",
    "\n",
    "from __future__ import print_function\n",
    "\n",
    "from sklearn.feature_extraction.text import TfidfVectorizer\n",
    "from sklearn.metrics.pairwise import cosine_similarity\n",
    "from sklearn.externals import joblib"
   ]
  },
  {
   "cell_type": "markdown",
   "metadata": {},
   "source": [
    "### DATOS: Top 100 Greatest Movies of All Time (The Ultimate List), by ChrisWalczyk55\n",
    "\n",
    "https://www.imdb.com/list/ls055592025/\n",
    "\n",
    "El problema consiste en agrupar un conjunto de películas en base a sus críticas en inglés, \n",
    "usando para ello procesamiento del texto\n",
    "\n",
    "\n",
    "Lo primero que haremos es leer los datos, disponibles en:\n",
    "https://github.com/brandomr/document_cluster.git"
   ]
  },
  {
   "cell_type": "code",
   "execution_count": 96,
   "metadata": {},
   "outputs": [],
   "source": [
    "# Lectura de los titulos\n",
    "\n",
    "with open(\"data/document_cluster/title_list.txt\") as file:\n",
    "    titles = [line.strip() for line in file]\n",
    "    \n",
    "# Lectura de las criticas\n",
    "\n",
    "synopses = []\n",
    "with open(\"data/document_cluster/synopses_list_wiki.txt\") as file:\n",
    "    i = True\n",
    "    l = ' '\n",
    "    for line in file:            \n",
    "        if 'BREAKS HERE' in line:\n",
    "            synopses.append(l) # append the previously collected lines\n",
    "            l = ' '       \n",
    "        l = l + line.decode('utf-8').strip()\n",
    "        \n",
    "# Lectura de los generos\n",
    "\n",
    "with open(\"data/document_cluster/genres_list.txt\") as file:\n",
    "    genres = [line.strip() for line in file]"
   ]
  },
  {
   "cell_type": "markdown",
   "metadata": {},
   "source": [
    "### Análisis del texto | tokenizing\n",
    "\n",
    "\n",
    "Para analizar el texto debemos estudiar la frecuencia de las palabras, es decir, separar el texto en unidades sintácticas o *tokens*."
   ]
  },
  {
   "cell_type": "code",
   "execution_count": 97,
   "metadata": {},
   "outputs": [],
   "source": [
    "def tokenize_only(text):\n",
    "    # first tokenize by sentence, then by word to ensure that punctuation is caught as it's own token\n",
    "    tokens = [word.lower() for sent in nltk.sent_tokenize(text) for word in nltk.word_tokenize(sent)]\n",
    "    filtered_tokens = []\n",
    "    # filter out any tokens not containing letters (e.g., numeric tokens, raw punctuation)\n",
    "    for token in tokens:\n",
    "        if re.search('[a-zA-Z]', token):\n",
    "            filtered_tokens.append(token)\n",
    "    return filtered_tokens\n",
    "\n",
    "from nltk.stem.snowball import SnowballStemmer\n",
    "stemmer = SnowballStemmer(\"english\")"
   ]
  },
  {
   "cell_type": "code",
   "execution_count": 98,
   "metadata": {},
   "outputs": [
    {
     "name": "stdout",
     "output_type": "stream",
     "text": [
      "['computer', 'science', 'is', 'no', 'more', 'about', 'computers', 'than', 'astronomy', 'is', 'about', 'telescopes', 'edsger', 'dijkstra']\n"
     ]
    }
   ],
   "source": [
    "# e.g.:\n",
    "from nltk.tokenize import word_tokenize\n",
    "text = \"Computer science is no more about computers than astronomy is about telescopes. Edsger Dijkstra\"\n",
    "tokens = tokenize_only(text)\n",
    "print(tokens)"
   ]
  },
  {
   "cell_type": "code",
   "execution_count": 99,
   "metadata": {},
   "outputs": [],
   "source": [
    "totalvocab_tokenized = []\n",
    "\n",
    "for i in synopses:\n",
    "    allwords_tokenized = tokenize_only(i)\n",
    "    totalvocab_tokenized.extend(allwords_tokenized)"
   ]
  },
  {
   "cell_type": "code",
   "execution_count": 100,
   "metadata": {},
   "outputs": [
    {
     "name": "stdout",
     "output_type": "stream",
     "text": [
      "Hay en total 164243 tokens \n",
      "\n",
      "[u'plot', u'edit', u'edit', u'edit', u'on', u'the', u'day', u'of', u'his', u'only', u'daughter', u\"'s\", u'wedding', u'vito', u'corleone', u'hears', u'requests', u'in', u'his', u'role', u'as', u'the', u'godfather', u'the', u'don', u'of', u'a', u'new', u'york', u'crime', u'family', u'vito', u\"'s\", u'youngest', u'son', u'michael', u'in', u'a', u'marine', u'corps', u'uniform', u'introduces', u'his', u'girlfriend', u'kay', u'adams', u'to', u'his', u'family', u'at']\n",
      "there are 164243 items in vocab_frame\n"
     ]
    }
   ],
   "source": [
    "print('Hay en total ' + str(len(totalvocab_tokenized)) + ' tokens \\n')\n",
    "len(totalvocab_tokenized)\n",
    "print (totalvocab_tokenized[0:50])\n",
    "\n",
    "vocab_frame = pd.DataFrame({'words': totalvocab_tokenized}, index = totalvocab_tokenized)\n",
    "print('there are ' + str(vocab_frame.shape[0]) + ' items in vocab_frame')"
   ]
  },
  {
   "cell_type": "code",
   "execution_count": 101,
   "metadata": {},
   "outputs": [
    {
     "name": "stdout",
     "output_type": "stream",
     "text": [
      "(100, 143)\n"
     ]
    }
   ],
   "source": [
    "from sklearn.feature_extraction.text import TfidfVectorizer\n",
    "\n",
    "#define vectorizer parameters\n",
    "tfidf_vectorizer = TfidfVectorizer(max_df=0.8, max_features=200000,\n",
    "                                 min_df=0.2, stop_words='english',\n",
    "                                 use_idf=True, tokenizer=tokenize_only, ngram_range=(1,3))\n",
    "\n",
    "tfidf_matrix = tfidf_vectorizer.fit_transform(synopses) #fit the vectorizer to synopses\n",
    "print(tfidf_matrix.shape)\n",
    "\n",
    "terms = tfidf_vectorizer.get_feature_names()"
   ]
  },
  {
   "cell_type": "markdown",
   "metadata": {},
   "source": [
    "### Buscar clusters | Kmeans"
   ]
  },
  {
   "cell_type": "markdown",
   "metadata": {},
   "source": [
    "Primero tenemos que hacer el *embeding*:"
   ]
  },
  {
   "cell_type": "code",
   "execution_count": 102,
   "metadata": {},
   "outputs": [],
   "source": [
    "from sklearn.cluster import KMeans\n",
    "\n",
    "num_clusters = 5\n",
    "\n",
    "km = KMeans(n_clusters=num_clusters)\n",
    "km.fit(tfidf_matrix)\n",
    "\n",
    "clusters = km.labels_.tolist()"
   ]
  },
  {
   "cell_type": "code",
   "execution_count": 103,
   "metadata": {},
   "outputs": [
    {
     "name": "stdout",
     "output_type": "stream",
     "text": [
      "[1, 3, 2, 3, 2, 2, 1, 3, 1, 1, 2, 1, 3, 4, 0, 3, 1, 1, 4, 2, 1, 3, 1, 1, 2, 3, 1, 3, 3, 2, 1, 2, 3, 2, 2, 3, 2, 2, 2, 3, 3, 0, 1, 3, 1, 1, 1, 1, 2, 2, 2, 4, 4, 2, 3, 2, 1, 2, 1, 4, 1, 2, 2, 4, 3, 1, 4, 3, 4, 1, 3, 4, 3, 3, 1, 0, 4, 1, 0, 2, 0, 1, 3, 3, 1, 0, 3, 2, 2, 2, 4, 1, 2, 1, 3, 4, 4, 4, 1, 1]\n",
      "El cluster 0 tiene 6 elementos\n",
      "El cluster 1 tiene 30 elementos\n",
      "El cluster 2 tiene 26 elementos\n",
      "El cluster 3 tiene 24 elementos\n",
      "El cluster 4 tiene 14 elementos\n"
     ]
    }
   ],
   "source": [
    "print (clusters)\n",
    "\n",
    "# Recuento del número de elementos en cada cluster\n",
    "for i in range(num_clusters):\n",
    "    print ('El cluster %i tiene %i elementos' % (i, clusters.count(i)))"
   ]
  },
  {
   "cell_type": "code",
   "execution_count": 104,
   "metadata": {},
   "outputs": [],
   "source": [
    "films = { 'title': titles, 'synopsis': synopses, 'cluster': clusters, 'genre': genres }\n",
    "frame = pd.DataFrame(films, index = [clusters] , columns = ['title', 'genre'])"
   ]
  },
  {
   "cell_type": "code",
   "execution_count": 105,
   "metadata": {},
   "outputs": [
    {
     "data": {
      "text/html": [
       "<div>\n",
       "<table border=\"1\" class=\"dataframe\">\n",
       "  <thead>\n",
       "    <tr style=\"text-align: right;\">\n",
       "      <th></th>\n",
       "      <th>title</th>\n",
       "      <th>genre</th>\n",
       "    </tr>\n",
       "  </thead>\n",
       "  <tbody>\n",
       "    <tr>\n",
       "      <th>3</th>\n",
       "      <td>The Shawshank Redemption</td>\n",
       "      <td>[u' Crime', u' Drama']</td>\n",
       "    </tr>\n",
       "    <tr>\n",
       "      <th>2</th>\n",
       "      <td>Schindler's List</td>\n",
       "      <td>[u' Biography', u' Drama', u' History']</td>\n",
       "    </tr>\n",
       "    <tr>\n",
       "      <th>3</th>\n",
       "      <td>Raging Bull</td>\n",
       "      <td>[u' Biography', u' Drama', u' Sport']</td>\n",
       "    </tr>\n",
       "    <tr>\n",
       "      <th>2</th>\n",
       "      <td>Casablanca</td>\n",
       "      <td>[u' Drama', u' Romance', u' War']</td>\n",
       "    </tr>\n",
       "    <tr>\n",
       "      <th>2</th>\n",
       "      <td>One Flew Over the Cuckoo's Nest</td>\n",
       "      <td>[u' Drama']</td>\n",
       "    </tr>\n",
       "    <tr>\n",
       "      <th>1</th>\n",
       "      <td>Gone with the Wind</td>\n",
       "      <td>[u' Drama', u' Romance', u' War']</td>\n",
       "    </tr>\n",
       "    <tr>\n",
       "      <th>3</th>\n",
       "      <td>Citizen Kane</td>\n",
       "      <td>[u' Drama', u' Mystery']</td>\n",
       "    </tr>\n",
       "    <tr>\n",
       "      <th>1</th>\n",
       "      <td>The Wizard of Oz</td>\n",
       "      <td>[u' Adventure', u' Family', u' Fantasy', u' Mu...</td>\n",
       "    </tr>\n",
       "    <tr>\n",
       "      <th>1</th>\n",
       "      <td>Titanic</td>\n",
       "      <td>[u' Drama', u' Romance']</td>\n",
       "    </tr>\n",
       "  </tbody>\n",
       "</table>\n",
       "</div>"
      ],
      "text/plain": [
       "                             title  \\\n",
       "3         The Shawshank Redemption   \n",
       "2                 Schindler's List   \n",
       "3                      Raging Bull   \n",
       "2                       Casablanca   \n",
       "2  One Flew Over the Cuckoo's Nest   \n",
       "1               Gone with the Wind   \n",
       "3                     Citizen Kane   \n",
       "1                 The Wizard of Oz   \n",
       "1                          Titanic   \n",
       "\n",
       "                                               genre  \n",
       "3                             [u' Crime', u' Drama']  \n",
       "2            [u' Biography', u' Drama', u' History']  \n",
       "3              [u' Biography', u' Drama', u' Sport']  \n",
       "2                  [u' Drama', u' Romance', u' War']  \n",
       "2                                        [u' Drama']  \n",
       "1                  [u' Drama', u' Romance', u' War']  \n",
       "3                           [u' Drama', u' Mystery']  \n",
       "1  [u' Adventure', u' Family', u' Fantasy', u' Mu...  \n",
       "1                           [u' Drama', u' Romance']  "
      ]
     },
     "execution_count": 105,
     "metadata": {},
     "output_type": "execute_result"
    }
   ],
   "source": [
    "frame[1:10]"
   ]
  },
  {
   "cell_type": "code",
   "execution_count": 106,
   "metadata": {},
   "outputs": [
    {
     "data": {
      "text/html": [
       "<div>\n",
       "<table border=\"1\" class=\"dataframe\">\n",
       "  <thead>\n",
       "    <tr style=\"text-align: right;\">\n",
       "      <th></th>\n",
       "      <th>title</th>\n",
       "      <th>genre</th>\n",
       "    </tr>\n",
       "  </thead>\n",
       "  <tbody>\n",
       "    <tr>\n",
       "      <th>1</th>\n",
       "      <td>The Godfather</td>\n",
       "      <td>[u' Crime', u' Drama']</td>\n",
       "    </tr>\n",
       "    <tr>\n",
       "      <th>1</th>\n",
       "      <td>Gone with the Wind</td>\n",
       "      <td>[u' Drama', u' Romance', u' War']</td>\n",
       "    </tr>\n",
       "    <tr>\n",
       "      <th>1</th>\n",
       "      <td>The Wizard of Oz</td>\n",
       "      <td>[u' Adventure', u' Family', u' Fantasy', u' Mu...</td>\n",
       "    </tr>\n",
       "    <tr>\n",
       "      <th>1</th>\n",
       "      <td>Titanic</td>\n",
       "      <td>[u' Drama', u' Romance']</td>\n",
       "    </tr>\n",
       "    <tr>\n",
       "      <th>1</th>\n",
       "      <td>The Godfather: Part II</td>\n",
       "      <td>[u' Crime', u' Drama']</td>\n",
       "    </tr>\n",
       "    <tr>\n",
       "      <th>1</th>\n",
       "      <td>Forrest Gump</td>\n",
       "      <td>[u' Drama', u' Romance']</td>\n",
       "    </tr>\n",
       "    <tr>\n",
       "      <th>1</th>\n",
       "      <td>The Sound of Music</td>\n",
       "      <td>[u' Biography', u' Drama', u' Family', u' Musi...</td>\n",
       "    </tr>\n",
       "    <tr>\n",
       "      <th>1</th>\n",
       "      <td>E.T. the Extra-Terrestrial</td>\n",
       "      <td>[u' Adventure', u' Family', u' Sci-Fi']</td>\n",
       "    </tr>\n",
       "    <tr>\n",
       "      <th>1</th>\n",
       "      <td>The Silence of the Lambs</td>\n",
       "      <td>[u' Crime', u' Drama', u' Thriller']</td>\n",
       "    </tr>\n",
       "    <tr>\n",
       "      <th>1</th>\n",
       "      <td>Chinatown</td>\n",
       "      <td>[u' Drama', u' Mystery', u' Thriller']</td>\n",
       "    </tr>\n",
       "    <tr>\n",
       "      <th>1</th>\n",
       "      <td>It's a Wonderful Life</td>\n",
       "      <td>[u' Drama', u' Family', u' Fantasy']</td>\n",
       "    </tr>\n",
       "    <tr>\n",
       "      <th>1</th>\n",
       "      <td>Amadeus</td>\n",
       "      <td>[u' Biography', u' Drama', u' Music']</td>\n",
       "    </tr>\n",
       "    <tr>\n",
       "      <th>1</th>\n",
       "      <td>To Kill a Mockingbird</td>\n",
       "      <td>[u' Drama']</td>\n",
       "    </tr>\n",
       "    <tr>\n",
       "      <th>1</th>\n",
       "      <td>The Best Years of Our Lives</td>\n",
       "      <td>[u' Drama', u' Romance', u' War']</td>\n",
       "    </tr>\n",
       "    <tr>\n",
       "      <th>1</th>\n",
       "      <td>My Fair Lady</td>\n",
       "      <td>[u' Drama', u' Family', u' Musical', u' Romance']</td>\n",
       "    </tr>\n",
       "    <tr>\n",
       "      <th>1</th>\n",
       "      <td>Ben-Hur</td>\n",
       "      <td>[u' Adventure', u' Drama']</td>\n",
       "    </tr>\n",
       "    <tr>\n",
       "      <th>1</th>\n",
       "      <td>Doctor Zhivago</td>\n",
       "      <td>[u' Drama', u' Romance', u' War']</td>\n",
       "    </tr>\n",
       "    <tr>\n",
       "      <th>1</th>\n",
       "      <td>High Noon</td>\n",
       "      <td>[u' Western']</td>\n",
       "    </tr>\n",
       "    <tr>\n",
       "      <th>1</th>\n",
       "      <td>The Pianist</td>\n",
       "      <td>[u' Biography', u' Drama', u' War']</td>\n",
       "    </tr>\n",
       "    <tr>\n",
       "      <th>1</th>\n",
       "      <td>The Exorcist</td>\n",
       "      <td>[u' Horror']</td>\n",
       "    </tr>\n",
       "    <tr>\n",
       "      <th>1</th>\n",
       "      <td>The King's Speech</td>\n",
       "      <td>[u' Biography', u' Drama', u' History']</td>\n",
       "    </tr>\n",
       "    <tr>\n",
       "      <th>1</th>\n",
       "      <td>Mr. Smith Goes to Washington</td>\n",
       "      <td>[u' Drama']</td>\n",
       "    </tr>\n",
       "    <tr>\n",
       "      <th>1</th>\n",
       "      <td>Terms of Endearment</td>\n",
       "      <td>[u' Comedy', u' Drama']</td>\n",
       "    </tr>\n",
       "    <tr>\n",
       "      <th>1</th>\n",
       "      <td>Giant</td>\n",
       "      <td>[u' Drama', u' Romance']</td>\n",
       "    </tr>\n",
       "    <tr>\n",
       "      <th>1</th>\n",
       "      <td>Close Encounters of the Third Kind</td>\n",
       "      <td>[u' Drama', u' Sci-Fi']</td>\n",
       "    </tr>\n",
       "    <tr>\n",
       "      <th>1</th>\n",
       "      <td>The Graduate</td>\n",
       "      <td>[u' Comedy', u' Drama', u' Romance']</td>\n",
       "    </tr>\n",
       "    <tr>\n",
       "      <th>1</th>\n",
       "      <td>A Clockwork Orange</td>\n",
       "      <td>[u' Crime', u' Drama', u' Sci-Fi']</td>\n",
       "    </tr>\n",
       "    <tr>\n",
       "      <th>1</th>\n",
       "      <td>Wuthering Heights</td>\n",
       "      <td>[u' Drama', u' Romance']</td>\n",
       "    </tr>\n",
       "    <tr>\n",
       "      <th>1</th>\n",
       "      <td>North by Northwest</td>\n",
       "      <td>[u' Mystery', u' Thriller']</td>\n",
       "    </tr>\n",
       "    <tr>\n",
       "      <th>1</th>\n",
       "      <td>Yankee Doodle Dandy</td>\n",
       "      <td>[u' Biography', u' Drama', u' Musical']</td>\n",
       "    </tr>\n",
       "  </tbody>\n",
       "</table>\n",
       "</div>"
      ],
      "text/plain": [
       "                                title  \\\n",
       "1                       The Godfather   \n",
       "1                  Gone with the Wind   \n",
       "1                    The Wizard of Oz   \n",
       "1                             Titanic   \n",
       "1              The Godfather: Part II   \n",
       "1                        Forrest Gump   \n",
       "1                  The Sound of Music   \n",
       "1          E.T. the Extra-Terrestrial   \n",
       "1            The Silence of the Lambs   \n",
       "1                           Chinatown   \n",
       "1               It's a Wonderful Life   \n",
       "1                             Amadeus   \n",
       "1               To Kill a Mockingbird   \n",
       "1         The Best Years of Our Lives   \n",
       "1                        My Fair Lady   \n",
       "1                             Ben-Hur   \n",
       "1                      Doctor Zhivago   \n",
       "1                           High Noon   \n",
       "1                         The Pianist   \n",
       "1                        The Exorcist   \n",
       "1                   The King's Speech   \n",
       "1        Mr. Smith Goes to Washington   \n",
       "1                 Terms of Endearment   \n",
       "1                               Giant   \n",
       "1  Close Encounters of the Third Kind   \n",
       "1                        The Graduate   \n",
       "1                  A Clockwork Orange   \n",
       "1                   Wuthering Heights   \n",
       "1                  North by Northwest   \n",
       "1                 Yankee Doodle Dandy   \n",
       "\n",
       "                                               genre  \n",
       "1                             [u' Crime', u' Drama']  \n",
       "1                  [u' Drama', u' Romance', u' War']  \n",
       "1  [u' Adventure', u' Family', u' Fantasy', u' Mu...  \n",
       "1                           [u' Drama', u' Romance']  \n",
       "1                             [u' Crime', u' Drama']  \n",
       "1                           [u' Drama', u' Romance']  \n",
       "1  [u' Biography', u' Drama', u' Family', u' Musi...  \n",
       "1            [u' Adventure', u' Family', u' Sci-Fi']  \n",
       "1               [u' Crime', u' Drama', u' Thriller']  \n",
       "1             [u' Drama', u' Mystery', u' Thriller']  \n",
       "1               [u' Drama', u' Family', u' Fantasy']  \n",
       "1              [u' Biography', u' Drama', u' Music']  \n",
       "1                                        [u' Drama']  \n",
       "1                  [u' Drama', u' Romance', u' War']  \n",
       "1  [u' Drama', u' Family', u' Musical', u' Romance']  \n",
       "1                         [u' Adventure', u' Drama']  \n",
       "1                  [u' Drama', u' Romance', u' War']  \n",
       "1                                      [u' Western']  \n",
       "1                [u' Biography', u' Drama', u' War']  \n",
       "1                                       [u' Horror']  \n",
       "1            [u' Biography', u' Drama', u' History']  \n",
       "1                                        [u' Drama']  \n",
       "1                            [u' Comedy', u' Drama']  \n",
       "1                           [u' Drama', u' Romance']  \n",
       "1                            [u' Drama', u' Sci-Fi']  \n",
       "1               [u' Comedy', u' Drama', u' Romance']  \n",
       "1                 [u' Crime', u' Drama', u' Sci-Fi']  \n",
       "1                           [u' Drama', u' Romance']  \n",
       "1                        [u' Mystery', u' Thriller']  \n",
       "1            [u' Biography', u' Drama', u' Musical']  "
      ]
     },
     "execution_count": 106,
     "metadata": {},
     "output_type": "execute_result"
    }
   ],
   "source": [
    "frame.ix[1]"
   ]
  },
  {
   "cell_type": "code",
   "execution_count": 107,
   "metadata": {},
   "outputs": [],
   "source": [
    "dist = 1 - cosine_similarity(tfidf_matrix)\n",
    "\n",
    "num_clusters = 5\n",
    "km = KMeans(n_clusters=num_clusters)\n",
    "km.fit(tfidf_matrix)\n",
    "clusters = km.labels_.tolist()"
   ]
  },
  {
   "cell_type": "code",
   "execution_count": 108,
   "metadata": {},
   "outputs": [],
   "source": [
    "order_centroids = km.cluster_centers_.argsort()[:, ::-1]"
   ]
  },
  {
   "cell_type": "code",
   "execution_count": 111,
   "metadata": {},
   "outputs": [
    {
     "name": "stdout",
     "output_type": "stream",
     "text": [
      "Top terms per cluster:\n",
      "\n",
      "*** Cluster 0:\n",
      "\n",
      "WORDS ///  army /  war /  men /  town /  killed /  new / \n",
      "\n",
      "TITLES ///  Vertigo /  The Philadelphia Story /  Tootsie /  The Grapes of Wrath /  The Green Mile /  American Graffiti / \n",
      "\n",
      "*** Cluster 1:\n",
      "\n",
      "WORDS ///  family /  home /  father /  war /  son /  death / \n",
      "\n",
      "TITLES ///  The Godfather /  Gone with the Wind /  The Wizard of Oz /  Titanic /  The Godfather: Part II /  Forrest Gump /  The Sound of Music /  E.T. the Extra-Terrestrial /  The Silence of the Lambs /  Chinatown /  It's a Wonderful Life /  Amadeus /  To Kill a Mockingbird /  The Best Years of Our Lives /  My Fair Lady /  Ben-Hur /  Doctor Zhivago /  High Noon /  The Pianist /  The Exorcist /  The King's Speech /  Mr. Smith Goes to Washington /  Terms of Endearment /  Giant /  Close Encounters of the Third Kind /  The Graduate /  A Clockwork Orange /  Wuthering Heights /  North by Northwest /  Yankee Doodle Dandy / \n",
      "\n",
      "*** Cluster 2:\n",
      "\n",
      "WORDS ///  car /  tells /  woman /  money /  wife /  later / \n",
      "\n",
      "TITLES ///  Schindler's List /  Casablanca /  One Flew Over the Cuckoo's Nest /  Lawrence of Arabia /  Star Wars /  The Bridge on the River Kwai /  Dr. Strangelove or: How I Learned to Stop Worrying and Love the Bomb /  Apocalypse Now /  The Lord of the Rings: The Return of the King /  Gladiator /  Saving Private Ryan /  Unforgiven /  Raiders of the Lost Ark /  Patton /  Jaws /  Braveheart /  The Treasure of the Sierra Madre /  Platoon /  Dances with Wolves /  The Deer Hunter /  All Quiet on the Western Front /  Shane /  The African Queen /  Stagecoach /  Mutiny on the Bounty /  Taxi Driver / \n",
      "\n",
      "*** Cluster 3:\n",
      "\n",
      "WORDS ///  police /  escape /  goes /  killed /  later /  love / \n",
      "\n",
      "TITLES ///  The Shawshank Redemption /  Raging Bull /  Citizen Kane /  Psycho /  On the Waterfront /  2001: A Space Odyssey /  Singin' in the Rain /  Some Like It Hot /  12 Angry Men /  Gandhi /  From Here to Eternity /  Rocky /  A Streetcar Named Desire /  An American in Paris /  The Apartment /  City Lights /  A Place in the Sun /  Rain Man /  Out of Africa /  Good Will Hunting /  Network /  Nashville /  Pulp Fiction /  Double Indemnity / \n",
      "\n",
      "*** Cluster 4:\n",
      "\n",
      "WORDS ///  father /  man /  new /  film /  finally /  york / \n",
      "\n",
      "TITLES ///  Sunset Blvd. /  West Side Story /  The Good, the Bad and the Ugly /  Butch Cassidy and the Sundance Kid /  Goodfellas /  The French Connection /  It Happened One Night /  Midnight Cowboy /  Annie Hall /  Fargo /  The Maltese Falcon /  Rebel Without a Cause /  Rear Window /  The Third Man / \n",
      "\n",
      "\n",
      "\n"
     ]
    }
   ],
   "source": [
    "print(\"Top terms per cluster:\")\n",
    "print()\n",
    "#sort cluster centers by proximity to centroid\n",
    "order_centroids = km.cluster_centers_.argsort()[:, ::-1]     \n",
    "        \n",
    "for i in range(num_clusters):\n",
    "    print(\"*** Cluster %d:\" % i, end='\\n\\n')\n",
    "    \n",
    "    print(\"WORDS /// \", end='')\n",
    "    \n",
    "    for ind in order_centroids[i, :6]: #replace 6 with n words per cluster\n",
    "        print(' %s' % vocab_frame.ix[terms[ind].split(' ')].values.tolist()[0][0].encode('utf-8', 'ignore'), end=' / ')\n",
    "    print() #add whitespace\n",
    "    print() #add whitespace\n",
    "    \n",
    "    print(\"TITLES /// \", end='')\n",
    "    for title in frame.ix[i]['title'].values.tolist():\n",
    "        print(' %s / ' % title, end='')\n",
    "    print() #add whitespace\n",
    "    print() #add whitespace\n",
    "    \n",
    "print()\n",
    "print()        \n",
    "        "
   ]
  },
  {
   "cell_type": "markdown",
   "metadata": {},
   "source": [
    "# ."
   ]
  },
  {
   "cell_type": "code",
   "execution_count": null,
   "metadata": {},
   "outputs": [],
   "source": []
  },
  {
   "cell_type": "code",
   "execution_count": null,
   "metadata": {},
   "outputs": [],
   "source": []
  },
  {
   "cell_type": "markdown",
   "metadata": {},
   "source": [
    "### Ahora lo limpiamos un poco más: STOPWORDS, STEMMING & TOKENIZING"
   ]
  },
  {
   "cell_type": "code",
   "execution_count": 132,
   "metadata": {},
   "outputs": [],
   "source": [
    "# la primera vez hay que descargar la lista de 'stopwords': nltk.download('stopwords')\n",
    "stopwords = nltk.corpus.stopwords.words('english')"
   ]
  },
  {
   "cell_type": "code",
   "execution_count": 133,
   "metadata": {},
   "outputs": [],
   "source": [
    "# STEMMING\n",
    "\n",
    "def tokenize_and_stem(text):\n",
    "    tokens = [word for sent in nltk.sent_tokenize(text) for word in nltk.word_tokenize(sent)]\n",
    "    filtered_tokens = []\n",
    "    for token in tokens:\n",
    "        if re.search('[a-zA-Z]', token):\n",
    "            filtered_tokens.append(token)\n",
    "    stems = [stemmer.stem(t) for t in filtered_tokens]\n",
    "    return stems"
   ]
  },
  {
   "cell_type": "code",
   "execution_count": 134,
   "metadata": {},
   "outputs": [],
   "source": [
    "totalvocab_stemmed = []\n",
    "\n",
    "for i in synopses:\n",
    "    allwords_stemmed = tokenize_and_stem(i)\n",
    "    totalvocab_stemmed.extend(allwords_stemmed)    "
   ]
  },
  {
   "cell_type": "markdown",
   "metadata": {},
   "source": [
    "**Eliminar las palabras vacías**"
   ]
  },
  {
   "cell_type": "code",
   "execution_count": 135,
   "metadata": {},
   "outputs": [],
   "source": [
    "from nltk.corpus import stopwords\n",
    "stopwords = nltk.corpus.stopwords.words('english')\n",
    "f_text = [word for word in totalvocab_stemmed if word not in stopwords]\n",
    "    \n",
    "vocab_frame = pd.DataFrame({'words': f_text}, index=range(len(f_text)))"
   ]
  },
  {
   "cell_type": "code",
   "execution_count": 136,
   "metadata": {},
   "outputs": [],
   "source": [
    "tfidf_vectorizer = TfidfVectorizer(max_df=0.8, max_features=200000,\n",
    "                                 min_df=0.2, stop_words='english',\n",
    "                                 use_idf=True, tokenizer=tokenize_and_stem, ngram_range=(1,3))\n",
    "\n",
    "tfidf_matrix = tfidf_vectorizer.fit_transform(synopses) #fit the vectorizer to synopses\n",
    "\n",
    "terms = tfidf_vectorizer.get_feature_names()"
   ]
  },
  {
   "cell_type": "markdown",
   "metadata": {},
   "source": [
    "**K-Means**"
   ]
  },
  {
   "cell_type": "code",
   "execution_count": 138,
   "metadata": {},
   "outputs": [],
   "source": [
    "#from sklearn.metrics.pairwise import cosine_similarity\n",
    "#dist = 1 - cosine_similarity(tfidf_matrix)\n",
    "\n",
    "num_clusters = 5\n",
    "km = KMeans(n_clusters=num_clusters)\n",
    "km.fit(tfidf_matrix)\n",
    "clusters = km.labels_.tolist()"
   ]
  },
  {
   "cell_type": "markdown",
   "metadata": {},
   "source": [
    "from sklearn.externals import joblib\n",
    "\n",
    "joblib.dump(km,  'doc_cluster.pkl')\n",
    "km = joblib.load('doc_cluster.pkl')\n",
    "clusters = km.labels_.tolist()"
   ]
  },
  {
   "cell_type": "code",
   "execution_count": 139,
   "metadata": {},
   "outputs": [],
   "source": [
    "films = { 'title': titles, 'synopsis': synopses, 'cluster': clusters, 'genre': genres }\n",
    "frame = pd.DataFrame(films, index = [clusters] , columns = ['title', 'cluster', 'genre'])"
   ]
  },
  {
   "cell_type": "code",
   "execution_count": 140,
   "metadata": {},
   "outputs": [],
   "source": [
    "#terms = tfidf_vectorizer.get_feature_names()\n",
    "\n",
    "num_clusters = 5\n",
    "km = KMeans(n_clusters=num_clusters)\n",
    "km.fit(tfidf_matrix)\n",
    "clusters = km.labels_.tolist()"
   ]
  },
  {
   "cell_type": "code",
   "execution_count": 141,
   "metadata": {},
   "outputs": [
    {
     "name": "stdout",
     "output_type": "stream",
     "text": [
      "Top terms per cluster:\n",
      "\n",
      "[[ Cluster 0 ]]\n",
      "\n",
      "  WORDS ///  kill / armi / soldier / order / war / command /\n",
      "\n",
      "  TITLES ///  On the Waterfront /  The French Connection /  City Lights /  It Happened One Night /  Shane /  American Graffiti /  A Clockwork Orange /  Rebel Without a Cause / \n",
      "\n",
      "\n",
      "[[ Cluster 1 ]]\n",
      "\n",
      "  WORDS ///  film / fight / year / new / scene / tell /\n",
      "\n",
      "  TITLES ///  The Shawshank Redemption /  Psycho /  Vertigo /  West Side Story /  Chinatown /  12 Angry Men /  Amadeus /  An American in Paris /  The Apartment /  Goodfellas /  A Place in the Sun /  Fargo /  Nashville /  The Maltese Falcon /  Taxi Driver /  Double Indemnity /  Rear Window /  The Third Man / \n",
      "\n",
      "\n",
      "[[ Cluster 2 ]]\n",
      "\n",
      "  WORDS ///  home / father / john / tell / return / day /\n",
      "\n",
      "  TITLES ///  Casablanca /  One Flew Over the Cuckoo's Nest /  Lawrence of Arabia /  Star Wars /  The Silence of the Lambs /  The Bridge on the River Kwai /  Dr. Strangelove or: How I Learned to Stop Worrying and Love the Bomb /  Apocalypse Now /  The Lord of the Rings: The Return of the King /  Gladiator /  Saving Private Ryan /  Unforgiven /  Raiders of the Lost Ark /  Patton /  Jaws /  Braveheart /  The Treasure of the Sierra Madre /  Platoon /  Dances with Wolves /  The Deer Hunter /  All Quiet on the Western Front /  Close Encounters of the Third Kind /  Stagecoach /  Mutiny on the Bounty /  North by Northwest / \n",
      "\n",
      "\n",
      "[[ Cluster 3 ]]\n",
      "\n",
      "  WORDS ///  murder / apart / polic / kill / friend / meet /\n",
      "\n",
      "  TITLES ///  The Godfather /  Gone with the Wind /  The Wizard of Oz /  Forrest Gump /  The Sound of Music /  E.T. the Extra-Terrestrial /  A Streetcar Named Desire /  My Fair Lady /  Ben-Hur /  Doctor Zhivago /  The Exorcist /  Rain Man /  Terms of Endearment /  Giant /  The Grapes of Wrath /  The Graduate /  Pulp Fiction /  Yankee Doodle Dandy / \n",
      "\n",
      "\n",
      "[[ Cluster 4 ]]\n",
      "\n",
      "  WORDS ///  famili / father / new / son / run / leav /\n",
      "\n",
      "  TITLES ///  Schindler's List /  Raging Bull /  Citizen Kane /  Titanic /  The Godfather: Part II /  Sunset Blvd. /  2001: A Space Odyssey /  Singin' in the Rain /  It's a Wonderful Life /  Some Like It Hot /  Gandhi /  From Here to Eternity /  Rocky /  The Philadelphia Story /  To Kill a Mockingbird /  The Best Years of Our Lives /  The Good, the Bad and the Ugly /  Butch Cassidy and the Sundance Kid /  High Noon /  The Pianist /  The King's Speech /  Midnight Cowboy /  Mr. Smith Goes to Washington /  Annie Hall /  Out of Africa /  Good Will Hunting /  Tootsie /  The Green Mile /  Network /  The African Queen /  Wuthering Heights / \n",
      "\n",
      "\n",
      "\n",
      "\n"
     ]
    }
   ],
   "source": [
    "print(\"Top terms per cluster:\")\n",
    "print()\n",
    "#sort cluster centers by proximity to centroid\n",
    "order_centroids = km.cluster_centers_.argsort()[:, ::-1]     \n",
    "        \n",
    "for i in range(num_clusters):\n",
    "    print(\"[[ Cluster %d ]]\" % i, end='\\n\\n')\n",
    "    \n",
    "    print(\"  WORDS /// \", end='')\n",
    "    \n",
    "    for ind in order_centroids[i, :6]: #replace 6 with n words per cluster\n",
    "        #print(' %s' % vocab_frame.ix[terms[ind].split(' ')].values.tolist()[0][0].encode('utf-8', 'ignore'), end=' / ')\n",
    "        print(' %s' % terms[ind], end=' /')\n",
    "    print('\\n')\n",
    "    \n",
    "    print(\"  TITLES /// \", end='')\n",
    "    for title in frame.ix[i]['title'].values.tolist():\n",
    "        print(' %s / ' % title, end='')\n",
    "    print('\\n\\n')\n",
    "    \n",
    "print('\\n')"
   ]
  },
  {
   "cell_type": "code",
   "execution_count": null,
   "metadata": {},
   "outputs": [],
   "source": []
  }
 ],
 "metadata": {
  "kernelspec": {
   "display_name": "Python 2",
   "language": "python",
   "name": "python2"
  },
  "language_info": {
   "codemirror_mode": {
    "name": "ipython",
    "version": 2
   },
   "file_extension": ".py",
   "mimetype": "text/x-python",
   "name": "python",
   "nbconvert_exporter": "python",
   "pygments_lexer": "ipython2",
   "version": "2.7.6"
  }
 },
 "nbformat": 4,
 "nbformat_minor": 2
}
