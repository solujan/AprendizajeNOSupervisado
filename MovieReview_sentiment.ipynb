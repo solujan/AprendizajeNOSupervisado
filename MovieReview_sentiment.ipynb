{
 "cells": [
  {
   "cell_type": "code",
   "execution_count": 2,
   "metadata": {},
   "outputs": [],
   "source": [
    "from sklearn.datasets import load_files \n",
    "\n",
    "import numpy as np\n",
    "import pandas as pd\n",
    "import nltk\n",
    "import re\n",
    "import os\n",
    "import codecs\n",
    "from sklearn import feature_extraction\n",
    "import mpld3\n",
    "\n",
    "from __future__ import print_function\n",
    "\n",
    "from sklearn.feature_extraction.text import TfidfVectorizer\n",
    "from sklearn.metrics.pairwise import cosine_similarity\n",
    "from sklearn.externals import joblib\n",
    "from sklearn.cluster import KMeans"
   ]
  },
  {
   "cell_type": "code",
   "execution_count": 3,
   "metadata": {},
   "outputs": [],
   "source": [
    "# preparar funciones de procesamiento de texto\n",
    "\n",
    "def tokenize_and_stem(text):\n",
    "    tokens = [word for sent in nltk.sent_tokenize(text) for word in nltk.word_tokenize(sent)]\n",
    "    filtered_tokens = []\n",
    "    for token in tokens:\n",
    "        if re.search('[a-zA-Z]', token):\n",
    "            filtered_tokens.append(token)\n",
    "    stems = [stemmer.stem(t) for t in filtered_tokens]\n",
    "    return stems\n",
    "\n",
    "from nltk.stem.snowball import SnowballStemmer\n",
    "stemmer = SnowballStemmer(\"english\")"
   ]
  },
  {
   "cell_type": "code",
   "execution_count": 4,
   "metadata": {},
   "outputs": [],
   "source": [
    "dataset = load_files('data/txt_sentoken', shuffle=False)\n",
    "\n",
    "synopses = []\n",
    "N = len(dataset['data'])\n",
    "\n",
    "for i in range(N):\n",
    "    synopses.append(dataset['data'][i].decode('utf-8').strip())    "
   ]
  },
  {
   "cell_type": "code",
   "execution_count": 5,
   "metadata": {},
   "outputs": [],
   "source": [
    "totalvocab_stemmed = []\n",
    "\n",
    "for i in synopses:\n",
    "    allwords_stemmed = tokenize_and_stem(i)\n",
    "    totalvocab_stemmed.extend(allwords_stemmed)\n",
    "        \n",
    "from nltk.corpus import stopwords\n",
    "stopwords = nltk.corpus.stopwords.words('english')\n",
    "f_text = [word for word in totalvocab_stemmed if word not in stopwords]\n",
    "\n",
    "vocab_frame = pd.DataFrame({'words': f_text}, index = range(len(f_text)))"
   ]
  },
  {
   "cell_type": "code",
   "execution_count": 6,
   "metadata": {},
   "outputs": [
    {
     "name": "stdout",
     "output_type": "stream",
     "text": [
      "(2000, 165)\n"
     ]
    },
    {
     "name": "stderr",
     "output_type": "stream",
     "text": [
      "/store/TeachJob/DiploDatos/python_demos/local/lib/python2.7/site-packages/sklearn/feature_extraction/text.py:1015: FutureWarning: Conversion of the second argument of issubdtype from `float` to `np.floating` is deprecated. In future, it will be treated as `np.float64 == np.dtype(float).type`.\n",
      "  if hasattr(X, 'dtype') and np.issubdtype(X.dtype, np.float):\n"
     ]
    }
   ],
   "source": [
    "tfidf_vectorizer = TfidfVectorizer(max_df=0.8, max_features=200000,\n",
    "                                 min_df=0.2, stop_words='english',\n",
    "                                 use_idf=True, tokenizer=tokenize_and_stem, ngram_range=(1,3))\n",
    "\n",
    "tfidf_matrix = tfidf_vectorizer.fit_transform(synopses) #fit the vectorizer to synopses\n",
    "print(tfidf_matrix.shape)\n",
    "\n",
    "terms = tfidf_vectorizer.get_feature_names()"
   ]
  },
  {
   "cell_type": "code",
   "execution_count": 7,
   "metadata": {},
   "outputs": [],
   "source": [
    "num_clusters = 5\n",
    "\n",
    "km = KMeans(n_clusters=num_clusters)\n",
    "km.fit(tfidf_matrix)\n",
    "\n",
    "clusters = km.labels_.tolist()"
   ]
  },
  {
   "cell_type": "code",
   "execution_count": 8,
   "metadata": {},
   "outputs": [
    {
     "name": "stdout",
     "output_type": "stream",
     "text": [
      "El cluster 0 tiene 535 elementos\n",
      "El cluster 1 tiene 592 elementos\n",
      "El cluster 2 tiene 385 elementos\n",
      "El cluster 3 tiene 308 elementos\n",
      "El cluster 4 tiene 180 elementos\n"
     ]
    }
   ],
   "source": [
    "# Recuento del número de elementos en cada cluster\n",
    "for i in range(num_clusters):\n",
    "    print ('El cluster %i tiene %i elementos' % (i, clusters.count(i)))"
   ]
  },
  {
   "cell_type": "code",
   "execution_count": 17,
   "metadata": {},
   "outputs": [],
   "source": [
    "num_clusters = 10\n",
    "km = KMeans(n_clusters=num_clusters)\n",
    "km.fit(tfidf_matrix)\n",
    "clusters = km.labels_.tolist()"
   ]
  },
  {
   "cell_type": "code",
   "execution_count": 19,
   "metadata": {},
   "outputs": [
    {
     "name": "stdout",
     "output_type": "stream",
     "text": [
      "Top terms per cluster:\n",
      "\n",
      "[[ Cluster 0 ]]\n",
      "\n",
      "  WORDS ///  stori / love / charact / doe / like / time /\n",
      "\n",
      "[[ Cluster 1 ]]\n",
      "\n",
      "  WORDS ///  life / world / charact / man / live / make /\n",
      "\n",
      "[[ Cluster 2 ]]\n",
      "\n",
      "  WORDS ///  john / origin / like / new / time / effect /\n",
      "\n",
      "[[ Cluster 3 ]]\n",
      "\n",
      "  WORDS ///  like / becom / charact / high / play / scene /\n",
      "\n",
      "[[ Cluster 4 ]]\n",
      "\n",
      "  WORDS ///  charact / veri / play / perform / good / star /\n",
      "\n",
      "[[ Cluster 5 ]]\n",
      "\n",
      "  WORDS ///  action / scene / like / charact / plot / make /\n",
      "\n",
      "[[ Cluster 6 ]]\n",
      "\n",
      "  WORDS ///  like / just / scene / make / good / time /\n",
      "\n",
      "[[ Cluster 7 ]]\n",
      "\n",
      "  WORDS ///  did / did n't / like / just / know / charact /\n",
      "\n",
      "[[ Cluster 8 ]]\n",
      "\n",
      "  WORDS ///  comedi / funni / laugh / like / charact / just /\n",
      "\n",
      "[[ Cluster 9 ]]\n",
      "\n",
      "  WORDS ///  bad / guy / good / like / just / act /\n",
      "\n",
      "\n",
      "\n"
     ]
    }
   ],
   "source": [
    "print(\"Top terms per cluster:\")\n",
    "print()\n",
    "\n",
    "#sort cluster centers by proximity to centroid\n",
    "order_centroids = km.cluster_centers_.argsort()[:, ::-1]     \n",
    "        \n",
    "for i in range(num_clusters):\n",
    "    print(\"[[ Cluster %d ]]\" % i, end='\\n\\n')\n",
    "    \n",
    "    print(\"  WORDS /// \", end='')\n",
    "    \n",
    "    for ind in order_centroids[i, :6]: #replace 6 with n words per cluster\n",
    "        #print(' %s' % vocab_frame.ix[terms[ind].split(' ')].values.tolist()[0][0].encode('utf-8', 'ignore'), end=' / ')\n",
    "        print(' %s' % terms[ind], end=' /')\n",
    "    print('\\n')\n",
    "    \n",
    "print('\\n')    "
   ]
  },
  {
   "cell_type": "code",
   "execution_count": null,
   "metadata": {},
   "outputs": [],
   "source": []
  },
  {
   "cell_type": "code",
   "execution_count": null,
   "metadata": {},
   "outputs": [],
   "source": []
  }
 ],
 "metadata": {
  "kernelspec": {
   "display_name": "Python 2",
   "language": "python",
   "name": "python2"
  },
  "language_info": {
   "codemirror_mode": {
    "name": "ipython",
    "version": 2
   },
   "file_extension": ".py",
   "mimetype": "text/x-python",
   "name": "python",
   "nbconvert_exporter": "python",
   "pygments_lexer": "ipython2",
   "version": "2.7.6"
  }
 },
 "nbformat": 4,
 "nbformat_minor": 2
}
