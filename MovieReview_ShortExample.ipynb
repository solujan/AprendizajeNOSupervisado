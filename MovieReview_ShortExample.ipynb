{
 "cells": [
  {
   "cell_type": "code",
   "execution_count": 258,
   "metadata": {},
   "outputs": [],
   "source": [
    "from sklearn.datasets import load_files \n",
    "\n",
    "import numpy as np\n",
    "import pandas as pd\n",
    "import nltk\n",
    "import re\n",
    "import os\n",
    "import codecs\n",
    "from sklearn import feature_extraction\n",
    "import mpld3\n",
    "\n",
    "from __future__ import print_function\n",
    "\n",
    "from sklearn.feature_extraction.text import TfidfVectorizer\n",
    "from sklearn.metrics.pairwise import cosine_similarity\n",
    "from sklearn.externals import joblib\n",
    "from sklearn.cluster import KMeans\n"
   ]
  },
  {
   "cell_type": "code",
   "execution_count": 278,
   "metadata": {},
   "outputs": [],
   "source": [
    "# preparar funciones de procesamiento de texto\n",
    "def tokenize_and_stem(text):\n",
    "    tokens = [word for sent in nltk.sent_tokenize(text) for word in nltk.word_tokenize(sent)]\n",
    "    filtered_tokens = []\n",
    "    for token in tokens:\n",
    "        if re.search('[a-zA-Z]', token):\n",
    "            filtered_tokens.append(token)\n",
    "    stems = [stemmer.stem(t) for t in filtered_tokens]\n",
    "    return stems\n",
    "\n",
    "from nltk.stem.snowball import SnowballStemmer\n",
    "stemmer = SnowballStemmer(\"english\")"
   ]
  },
  {
   "cell_type": "code",
   "execution_count": 279,
   "metadata": {},
   "outputs": [
    {
     "data": {
      "text/plain": [
       "[u'cat', u'are', u'run']"
      ]
     },
     "execution_count": 279,
     "metadata": {},
     "output_type": "execute_result"
    }
   ],
   "source": [
    "# e.g.:\n",
    "tokenize_and_stem('cats are running')"
   ]
  },
  {
   "cell_type": "markdown",
   "metadata": {},
   "source": [
    "**Texto de prueba**"
   ]
  },
  {
   "cell_type": "code",
   "execution_count": 261,
   "metadata": {},
   "outputs": [],
   "source": [
    "text1 = 'Far out in the uncharted backwaters of the unfashionable end of \\\n",
    "  the  western  spiral  arm  of  the  Galaxy  lies  a  small  unregarded \\\n",
    "  yellow sun.'\n",
    "text2 = 'In a hole in the ground there lived a hobbit. Not a nasty, dirty, \\\n",
    "  wet hole, filled with the ends of worms and an oozy smell, nor yet a dry, bare, \\\n",
    "  sandy hole with nothing in it to sit down on or to eat:  it  was  a  \\\n",
    "  hobbit-hole,  and  that  means comfort.'\n",
    "text3 = 'In the beginning was the Word, and the Word was with God, and the Word was God.\\\n",
    "  The same was in the beginning with God. \\\n",
    "  All things were made by him; and without him was not any thing made that was made.'\n",
    "text4 = 'There was Eru, the One, who in Arda is called Iluvatar; and he made first the Ainur, \\\n",
    "  the Holy Ones, that were the offspring of his thought, and they were with him before aught \\\n",
    "  else was made. And he spoke to them, propounding to them themes of music; and they sang \\\n",
    "  before him, and he was glad. But for a long while they sang only each alone, or but few together, \\\n",
    "  while the rest hearkened; for each comprehended only that part of me mind of Ilúvatar \\\n",
    "  from which he came, and in the understanding of their brethren they grew but slowly. \\\n",
    "  Yet ever as they listened they came to deeper understanding, and increased in unison and harmony.'\n",
    "text5 = 'The morning had dawned clear and cold, with a crispness that hinted at the end of summer. \\\n",
    "  They set forth at daybreak to see a man beheaded, twenty in all, and Bran rode among them, \\\n",
    "  nervous with excitement. This was the first time he had been deemed old enough to go with \\\n",
    "  his lord father and his brothers to see the kings justice done. It was the ninth year of summer, \\\n",
    "  and the seventh of Brans life.'\n",
    "\n",
    "text = []\n",
    "text.append(text1.decode('utf-8').strip())\n",
    "text.append(text2.decode('utf-8').strip())\n",
    "text.append(text3.decode('utf-8').strip())\n",
    "text.append(text4.decode('utf-8').strip())\n",
    "text.append(text5.decode('utf-8').strip())"
   ]
  },
  {
   "cell_type": "code",
   "execution_count": 262,
   "metadata": {},
   "outputs": [
    {
     "data": {
      "text/plain": [
       "[u'Far out in the uncharted backwaters of the unfashionable end of   the  western  spiral  arm  of  the  Galaxy  lies  a  small  unregarded   yellow sun.',\n",
       " u'In a hole in the ground there lived a hobbit. Not a nasty, dirty,   wet hole, filled with the ends of worms and an oozy smell, nor yet a dry, bare,   sandy hole with nothing in it to sit down on or to eat:  it  was  a    hobbit-hole,  and  that  means comfort.',\n",
       " u'In the beginning was the Word, and the Word was with God, and the Word was God.  The same was in the beginning with God.   All things were made by him; and without him was not any thing made that was made.',\n",
       " u'There was Eru, the One, who in Arda is called Iluvatar; and he made first the Ainur,   the Holy Ones, that were the offspring of his thought, and they were with him before aught   else was made. And he spoke to them, propounding to them themes of music; and they sang   before him, and he was glad. But for a long while they sang only each alone, or but few together,   while the rest hearkened; for each comprehended only that part of me mind of Il\\xfavatar   from which he came, and in the understanding of their brethren they grew but slowly.   Yet ever as they listened they came to deeper understanding, and increased in unison and harmony.',\n",
       " u'The morning had dawned clear and cold, with a crispness that hinted at the end of summer.   They set forth at daybreak to see a man beheaded, twenty in all, and Bran rode among them,   nervous with excitement. This was the first time he had been deemed old enough to go with   his lord father and his brothers to see the kings justice done. It was the ninth year of summer,   and the seventh of Brans life.']"
      ]
     },
     "execution_count": 262,
     "metadata": {},
     "output_type": "execute_result"
    }
   ],
   "source": [
    "text"
   ]
  },
  {
   "cell_type": "markdown",
   "metadata": {},
   "source": [
    "**Separar en palabras y usar las raíces de los vocablos**"
   ]
  },
  {
   "cell_type": "code",
   "execution_count": 263,
   "metadata": {},
   "outputs": [],
   "source": [
    "palabras = []\n",
    "\n",
    "for i in text:\n",
    "    p = tokenize_and_stem(i)\n",
    "    palabras.extend(p)"
   ]
  },
  {
   "cell_type": "markdown",
   "metadata": {},
   "source": [
    "**Limpiar las \"palabras vacias\"**"
   ]
  },
  {
   "cell_type": "code",
   "execution_count": 264,
   "metadata": {},
   "outputs": [
    {
     "name": "stdout",
     "output_type": "stream",
     "text": [
      "[u'i', u'me', u'my', u'myself', u'we', u'our', u'ours', u'ourselves', u'you', u\"you're\", u\"you've\", u\"you'll\", u\"you'd\", u'your', u'yours', u'yourself', u'yourselves', u'he', u'him', u'his', u'himself', u'she', u\"she's\", u'her', u'hers', u'herself', u'it', u\"it's\", u'its', u'itself', u'they', u'them', u'their', u'theirs', u'themselves', u'what', u'which', u'who', u'whom', u'this', u'that', u\"that'll\", u'these', u'those', u'am', u'is', u'are', u'was', u'were', u'be', u'been', u'being', u'have', u'has', u'had', u'having', u'do', u'does', u'did', u'doing', u'a', u'an', u'the', u'and', u'but', u'if', u'or', u'because', u'as', u'until', u'while', u'of', u'at', u'by', u'for', u'with', u'about', u'against', u'between', u'into', u'through', u'during', u'before', u'after', u'above', u'below', u'to', u'from', u'up', u'down', u'in', u'out', u'on', u'off', u'over', u'under', u'again', u'further', u'then', u'once', u'here', u'there', u'when', u'where', u'why', u'how', u'all', u'any', u'both', u'each', u'few', u'more', u'most', u'other', u'some', u'such', u'no', u'nor', u'not', u'only', u'own', u'same', u'so', u'than', u'too', u'very', u's', u't', u'can', u'will', u'just', u'don', u\"don't\", u'should', u\"should've\", u'now', u'd', u'll', u'm', u'o', u're', u've', u'y', u'ain', u'aren', u\"aren't\", u'couldn', u\"couldn't\", u'didn', u\"didn't\", u'doesn', u\"doesn't\", u'hadn', u\"hadn't\", u'hasn', u\"hasn't\", u'haven', u\"haven't\", u'isn', u\"isn't\", u'ma', u'mightn', u\"mightn't\", u'mustn', u\"mustn't\", u'needn', u\"needn't\", u'shan', u\"shan't\", u'shouldn', u\"shouldn't\", u'wasn', u\"wasn't\", u'weren', u\"weren't\", u'won', u\"won't\", u'wouldn', u\"wouldn't\"]\n"
     ]
    }
   ],
   "source": [
    "# lista de \"stopwords\"\n",
    "from nltk.corpus import stopwords\n",
    "stopwords = nltk.corpus.stopwords.words('english')\n",
    "print(stopwords)"
   ]
  },
  {
   "cell_type": "code",
   "execution_count": 265,
   "metadata": {},
   "outputs": [
    {
     "name": "stdout",
     "output_type": "stream",
     "text": [
      "[u'far', u'unchart', u'backwat', u'unfashion', u'end', u'western', u'spiral', u'arm', u'galaxi', u'lie', u'small', u'unregard', u'yellow', u'sun', u'hole', u'ground', u'live', u'hobbit', u'nasti', u'dirti', u'wet', u'hole', u'fill', u'end', u'worm', u'oozi', u'smell', u'yet', u'dri', u'bare', u'sandi', u'hole', u'noth', u'sit', u'eat', u'hobbit-hol', u'mean', u'comfort', u'begin', u'word', u'word', u'god', u'word', u'god', u'begin', u'god', u'thing', u'made', u'without', u'ani', u'thing', u'made', u'made', u'eru', u'one', u'arda', u'call', u'iluvatar', u'made', u'first', u'ainur', u'holi', u'one', u'offspr', u'thought', u'befor', u'aught', u'els', u'made', u'spoke', u'propound', u'theme', u'music', u'sang', u'befor', u'glad', u'long', u'sang', u'onli', u'alon', u'togeth', u'rest', u'hearken', u'comprehend', u'onli', u'part', u'mind', u'il\\xfavatar', u'came', u'understand', u'brethren', u'grew', u'slowli', u'yet', u'ever', u'listen', u'came', u'deeper', u'understand', u'increas', u'unison', u'harmoni', u'morn', u'dawn', u'clear', u'cold', u'crisp', u'hint', u'end', u'summer', u'set', u'forth', u'daybreak', u'see', u'man', u'behead', u'twenti', u'bran', u'rode', u'among', u'nervous', u'excit', u'first', u'time', u'deem', u'old', u'enough', u'go', u'lord', u'father', u'brother', u'see', u'king', u'justic', u'done', u'ninth', u'year', u'summer', u'seventh', u'bran', u'life']\n"
     ]
    }
   ],
   "source": [
    "f_text = [word for word in palabras if word not in stopwords]\n",
    "print(f_text)"
   ]
  },
  {
   "cell_type": "markdown",
   "metadata": {},
   "source": [
    "**Crear una tabla de palabras**"
   ]
  },
  {
   "cell_type": "code",
   "execution_count": 266,
   "metadata": {},
   "outputs": [
    {
     "name": "stdout",
     "output_type": "stream",
     "text": [
      "       words\n",
      "0        far\n",
      "1    unchart\n",
      "2    backwat\n",
      "3  unfashion\n",
      "4        end\n",
      "5    western\n",
      "6     spiral\n",
      "7        arm\n",
      "8     galaxi\n",
      "9        lie\n"
     ]
    }
   ],
   "source": [
    "vocab_frame = pd.DataFrame({'words': f_text}, index = range(len(f_text)))\n",
    "print(vocab_frame[0:10])"
   ]
  },
  {
   "cell_type": "code",
   "execution_count": 276,
   "metadata": {},
   "outputs": [
    {
     "name": "stdout",
     "output_type": "stream",
     "text": [
      "La matrix tiene 5 filas (documentos) y 324 columnas (palabras)\n",
      "\n"
     ]
    }
   ],
   "source": [
    "# Compute the term frequency-inverse document frequency matrix\n",
    "tfidf_vectorizer = TfidfVectorizer(max_df=0.98, max_features=200000,\n",
    "                                 min_df=0.01, stop_words='english',\n",
    "                                 use_idf=True, tokenizer=tokenize_and_stem, ngram_range=(1,3))\n",
    "\n",
    "tfidf_matrix = tfidf_vectorizer.fit_transform(text)\n",
    "print(\"La matrix tiene %i filas (documentos) y %i columnas (palabras)\\n\" % tfidf_matrix.shape)\n",
    "\n"
   ]
  },
  {
   "cell_type": "code",
   "execution_count": 277,
   "metadata": {},
   "outputs": [
    {
     "name": "stdout",
     "output_type": "stream",
     "text": [
      "Hay en total 324 palabras:\n",
      "\n",
      "[u'ainur', u'ainur holi', u'ainur holi offspr', u'alon', u'alon togeth', u'alon togeth rest', u'ani', u'ani thing', u'arda', u'arda iluvatar', u'arda iluvatar ainur', u'arm', u'arm galaxi', u'arm galaxi lie', u'aught', u'aught els', u'aught els spoke', u'backwat', u'backwat unfashion', u'backwat unfashion end', u'bare', u'bare sandi', u'bare sandi hole', u'befor', u'befor aught', u'befor aught els', u'befor glad', u'befor glad long', u'begin', u'begin god', u'begin god thing', u'begin word', u'begin word word', u'behead', u'behead twenti', u'behead twenti bran', u'bran', u'bran life', u'bran rode', u'bran rode nervous', u'brethren', u'brethren grew', u'brethren grew slowli', u'brother', u'brother king', u'brother king justic', u'came', u'came deeper', u'came deeper understand', u'came understand', u'came understand brethren', u'clear', u'clear cold', u'clear cold crisp', u'cold', u'cold crisp', u'cold crisp hint', u'comfort', u'comprehend', u'comprehend onli', u'comprehend onli mind', u'crisp', u'crisp hint', u'crisp hint end', u'dawn', u'dawn clear', u'dawn clear cold', u'daybreak', u'daybreak man', u'daybreak man behead', u'deem', u'deem old', u'deem old lord', u'deeper', u'deeper understand', u'deeper understand increas', u'dirti', u'dirti wet', u'dirti wet hole', u'dri', u'dri bare', u'dri bare sandi', u'eat', u'eat hobbit-hol', u'eat hobbit-hol mean', u'els', u'els spoke', u'els spoke propound', u'end', u'end summer', u'end summer set', u'end western', u'end western spiral', u'end worm', u'end worm oozi', u'eru', u'eru arda', u'eru arda iluvatar', u'excit', u'excit time', u'excit time deem', u'far', u'far unchart', u'far unchart backwat', u'father', u'father brother', u'father brother king', u'forth', u'forth daybreak', u'forth daybreak man', u'galaxi', u'galaxi lie', u'galaxi lie small', u'glad', u'glad long', u'glad long sang', u'god', u'god begin', u'god begin god', u'god thing', u'god thing ani', u'god word', u'god word god', u'grew', u'grew slowli', u'grew slowli listen', u'ground', u'ground live', u'ground live hobbit', u'harmoni', u'hearken', u'hearken comprehend', u'hearken comprehend onli', u'hint', u'hint end', u'hint end summer', u'hobbit', u'hobbit nasti', u'hobbit nasti dirti', u'hobbit-hol', u'hobbit-hol mean', u'hobbit-hol mean comfort', u'hole', u'hole end', u'hole end worm', u'hole ground', u'hole ground live', u'hole noth', u'hole noth sit', u'holi', u'holi offspr', u'holi offspr thought', u'iluvatar', u'iluvatar ainur', u'iluvatar ainur holi', u'il\\xfavatar', u'il\\xfavatar came', u'il\\xfavatar came understand', u'increas', u'increas unison', u'increas unison harmoni', u'justic', u'justic ninth', u'justic ninth year', u'king', u'king justic', u'king justic ninth', u'lie', u'lie small', u'lie small unregard', u'life', u'listen', u'listen came', u'listen came deeper', u'live', u'live hobbit', u'live hobbit nasti', u'long', u'long sang', u'long sang onli', u'lord', u'lord father', u'lord father brother', u'man', u'man behead', u'man behead twenti', u'mean', u'mean comfort', u'mind', u'mind il\\xfavatar', u'mind il\\xfavatar came', u'morn', u'morn dawn', u'morn dawn clear', u'music', u'music sang', u'music sang befor', u'nasti', u'nasti dirti', u'nasti dirti wet', u'nervous', u'nervous excit', u'nervous excit time', u'ninth', u'ninth year', u'ninth year summer', u'noth', u'noth sit', u'noth sit eat', u'offspr', u'offspr thought', u'offspr thought befor', u'old', u'old lord', u'old lord father', u'onli', u'onli alon', u'onli alon togeth', u'onli mind', u'onli mind il\\xfavatar', u'oozi', u'oozi smell', u'oozi smell dri', u'propound', u'propound theme', u'propound theme music', u'rest', u'rest hearken', u'rest hearken comprehend', u'rode', u'rode nervous', u'rode nervous excit', u'sandi', u'sandi hole', u'sandi hole noth', u'sang', u'sang befor', u'sang befor glad', u'sang onli', u'sang onli alon', u'set', u'set forth', u'set forth daybreak', u'seventh', u'seventh bran', u'seventh bran life', u'sit', u'sit eat', u'sit eat hobbit-hol', u'slowli', u'slowli listen', u'slowli listen came', u'small', u'small unregard', u'small unregard yellow', u'smell', u'smell dri', u'smell dri bare', u'spiral', u'spiral arm', u'spiral arm galaxi', u'spoke', u'spoke propound', u'spoke propound theme', u'summer', u'summer set', u'summer set forth', u'summer seventh', u'summer seventh bran', u'sun', u'theme', u'theme music', u'theme music sang', u'thing', u'thing ani', u'thing ani thing', u'thought', u'thought befor', u'thought befor aught', u'time', u'time deem', u'time deem old', u'togeth', u'togeth rest', u'togeth rest hearken', u'twenti', u'twenti bran', u'twenti bran rode', u'unchart', u'unchart backwat', u'unchart backwat unfashion', u'understand', u'understand brethren', u'understand brethren grew', u'understand increas', u'understand increas unison', u'unfashion', u'unfashion end', u'unfashion end western', u'unison', u'unison harmoni', u'unregard', u'unregard yellow', u'unregard yellow sun', u'western', u'western spiral', u'western spiral arm', u'wet', u'wet hole', u'wet hole end', u'word', u'word god', u'word god begin', u'word god word', u'word word', u'word word god', u'worm', u'worm oozi', u'worm oozi smell', u'year', u'year summer', u'year summer seventh', u'yellow', u'yellow sun']\n"
     ]
    }
   ],
   "source": [
    "terms = tfidf_vectorizer.get_feature_names()\n",
    "print(\"Hay en total %i palabras:\\n\" % len(terms))\n",
    "print(terms)"
   ]
  },
  {
   "cell_type": "markdown",
   "metadata": {},
   "source": [
    "## Buscando grupos de documentos con K-Means"
   ]
  },
  {
   "cell_type": "code",
   "execution_count": 272,
   "metadata": {},
   "outputs": [
    {
     "name": "stdout",
     "output_type": "stream",
     "text": [
      "[1, 1, 0, 2, 1]\n"
     ]
    }
   ],
   "source": [
    "num_clusters = 3\n",
    "km = KMeans(n_clusters=num_clusters)\n",
    "km.fit(tfidf_matrix)\n",
    "clusters = km.labels_.tolist()\n",
    "\n",
    "print(clusters)"
   ]
  },
  {
   "cell_type": "code",
   "execution_count": 273,
   "metadata": {},
   "outputs": [
    {
     "name": "stdout",
     "output_type": "stream",
     "text": [
      "El cluster 0 tiene 1 elementos\n",
      "El cluster 1 tiene 3 elementos\n",
      "El cluster 2 tiene 1 elementos\n"
     ]
    }
   ],
   "source": [
    "# Recuento del número de elementos en cada cluster\n",
    "for i in range(num_clusters):\n",
    "    print ('El cluster %i tiene %i elementos' % (i, clusters.count(i)))"
   ]
  },
  {
   "cell_type": "code",
   "execution_count": 274,
   "metadata": {},
   "outputs": [],
   "source": [
    "dist = 1 - cosine_similarity(tfidf_matrix)"
   ]
  },
  {
   "cell_type": "code",
   "execution_count": 287,
   "metadata": {},
   "outputs": [
    {
     "name": "stdout",
     "output_type": "stream",
     "text": [
      "Top terms per cluster:\n",
      "\n",
      "[[ Cluster 0 ]]\n",
      "\n",
      "   WORDS /// god / word / word god / begin / thing / begin god / \n",
      "\n",
      "\n",
      "[[ Cluster 1 ]]\n",
      "\n",
      "   WORDS /// hole / end / summer / bran / yellow sun / small unregard yellow / \n",
      "\n",
      "\n",
      "[[ Cluster 2 ]]\n",
      "\n",
      "   WORDS /// sang / onli / came / understand / befor / ainur / \n",
      "\n",
      "\n"
     ]
    }
   ],
   "source": [
    "print(\"Top terms per cluster:\")\n",
    "print()\n",
    "#sort cluster centers by proximity to centroid\n",
    "order_centroids = km.cluster_centers_.argsort()[:, ::-1]     \n",
    "        \n",
    "for i in range(num_clusters):\n",
    "    print(\"[[ Cluster %d ]]\" % i, end='\\n\\n')\n",
    "    \n",
    "    print(\"   WORDS /// \", end='')\n",
    "    \n",
    "    for ind in order_centroids[i, :6]: #replace 6 with n words per cluster\n",
    "        print(terms[ind], end=' / ')\n",
    "    print('\\n\\n')\n"
   ]
  },
  {
   "cell_type": "code",
   "execution_count": null,
   "metadata": {},
   "outputs": [],
   "source": []
  }
 ],
 "metadata": {
  "kernelspec": {
   "display_name": "Python 2",
   "language": "python",
   "name": "python2"
  },
  "language_info": {
   "codemirror_mode": {
    "name": "ipython",
    "version": 2
   },
   "file_extension": ".py",
   "mimetype": "text/x-python",
   "name": "python",
   "nbconvert_exporter": "python",
   "pygments_lexer": "ipython2",
   "version": "2.7.6"
  }
 },
 "nbformat": 4,
 "nbformat_minor": 2
}
